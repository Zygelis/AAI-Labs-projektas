{
 "cells": [
  {
   "cell_type": "code",
   "execution_count": 1,
   "id": "5accd630-ce01-4774-bd15-b71a0865fbc6",
   "metadata": {},
   "outputs": [
    {
     "name": "stdout",
     "output_type": "stream",
     "text": [
      "Pakistan has nan values\n",
      "Somalia has nan values\n",
      "South Sudan has nan values\n",
      "Done\n"
     ]
    }
   ],
   "source": [
    "import pandas as pd\n",
    "import seaborn as sns\n",
    "import matplotlib.pyplot as plt\n",
    "import os\n",
    "\n",
    "# Change working directory\n",
    "new_directory = \"C:\\\\Users\\\\Zygis\\\\Desktop\\\\AAI-Labs-projektas\"\n",
    "os.chdir(new_directory)\n",
    "\n",
    "# Read the data\n",
    "df = pd.read_excel(\"WEOOct2020all.xls\", engine=\"xlrd\")\n",
    "\n",
    "# 3 task:\n",
    "# Save the GDP growth figures in separate charts and save them as PNG files\n",
    "\n",
    "# Select GDP per capita data\n",
    "df = df[(df[\"WEO Subject Code\"] == \"NGDPDPC\")]\n",
    "\n",
    "\n",
    "# Function to plot GDP growth figures of selected country\n",
    "def plot_creation(df, country):\n",
    "    # Select country data\n",
    "    df = df[(df[\"Country\"] == country)]\n",
    "\n",
    "    # Set country name as index\n",
    "    df = df.set_index(\"Country\")\n",
    "\n",
    "    # Some countries have 0 or nan in 'Estimates Start After' column, so we set it to 2020\n",
    "    if (\n",
    "        df[\"Estimates Start After\"].isnull().values.any()\n",
    "        or df[\"Estimates Start After\"].iloc[0] == 0\n",
    "    ):\n",
    "        df[\"Estimates Start After\"] = 2020\n",
    "\n",
    "    # Determine decade start and end years for this country\n",
    "    year_end = int(df[\"Estimates Start After\"].iloc[0])\n",
    "    year_start = year_end - 10\n",
    "\n",
    "    # Select columns from start_year to end_year\n",
    "    df = df.loc[:, year_start:year_end]\n",
    "\n",
    "    # If there are nan values skip that country\n",
    "    if df.isnull().values.any():\n",
    "        print(f\"{country} has nan values\")\n",
    "        return\n",
    "\n",
    "    # Reset Seaborn settings to make sure we have a clean plot\n",
    "    sns.set()\n",
    "\n",
    "    # Plot GDP growth figures\n",
    "    plot = sns.lineplot(data=df.loc[country, year_start:year_end], marker=\"o\")\n",
    "    sns.set_style(\"darkgrid\")\n",
    "\n",
    "    plot.set_title(f\"{country} GDP growth over the last decade\")\n",
    "    plot.set_xlabel(\"Year\")\n",
    "    plot.set_ylabel(\"GDP\")\n",
    "\n",
    "    # Save the plot\n",
    "    plot.figure.savefig(f\"3-dalis\\\\Grafikai\\\\{country}_GDP_growth.png\")\n",
    "\n",
    "    # Close the plot to make separate charts for each country\n",
    "    plt.close()\n",
    "\n",
    "\n",
    "# Select all countries from dataframe\n",
    "country_list = df[\"Country\"].unique()\n",
    "\n",
    "for country in country_list:\n",
    "    plot_creation(df, country)\n",
    "\n",
    "print(\"Done\")"
   ]
  },
  {
   "cell_type": "code",
   "execution_count": null,
   "id": "bef4224a-f875-4127-8453-7c048b1650b7",
   "metadata": {},
   "outputs": [],
   "source": []
  }
 ],
 "metadata": {
  "kernelspec": {
   "display_name": "Python 3 (ipykernel)",
   "language": "python",
   "name": "python3"
  },
  "language_info": {
   "codemirror_mode": {
    "name": "ipython",
    "version": 3
   },
   "file_extension": ".py",
   "mimetype": "text/x-python",
   "name": "python",
   "nbconvert_exporter": "python",
   "pygments_lexer": "ipython3",
   "version": "3.10.6"
  }
 },
 "nbformat": 4,
 "nbformat_minor": 5
}
