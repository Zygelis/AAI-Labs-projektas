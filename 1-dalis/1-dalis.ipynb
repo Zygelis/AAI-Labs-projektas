{
 "cells": [
  {
   "cell_type": "code",
   "execution_count": 1,
   "id": "9dcf0a4b-4151-4f5c-ade1-4f1b928c53f2",
   "metadata": {},
   "outputs": [
    {
     "name": "stdout",
     "output_type": "stream",
     "text": [
      "Top 10 countries that GDP per capita changed the most over the last decade:\n",
      "            Country GDP_change\n",
      "4554      Macao SAR   44448.97\n",
      "6849      Singapore   26176.95\n",
      "3609        Ireland   17993.72\n",
      "3384        Iceland   17108.76\n",
      "3294  Hong Kong SAR   16825.92\n",
      "8334  United States   14772.57\n",
      "3654         Israel   12143.79\n",
      "4014          Korea   12072.51\n",
      "5544    New Zealand   10799.76\n",
      "7524    Switzerland   10219.15\n",
      "\n",
      "\n",
      "Top 10 countries that had the highest GDP per capita growth rate over the last decade:\n",
      "         Country GDP_per_capita_growth_rate\n",
      "1584       China                 187.799337\n",
      "594   Bangladesh                 168.370669\n",
      "4194  Lao P.D.R.                 161.027035\n",
      "2529    Ethiopia                 160.697326\n",
      "8739    Zimbabwe                 157.166917\n",
      "5319     Myanmar                 140.706249\n",
      "5409       Nauru                 137.015303\n",
      "5949      Panama                 120.251525\n",
      "8559     Vietnam                 119.930604\n",
      "5454       Nepal                 119.769498\n"
     ]
    }
   ],
   "source": [
    "import pandas as pd\n",
    "import os\n",
    "\n",
    "# Change working directory\n",
    "new_directory = \"C:\\\\Users\\\\Zygis\\\\Desktop\\\\AAI-Labs-projektas\"\n",
    "os.chdir(new_directory)\n",
    "\n",
    "# Read in the data\n",
    "df = pd.read_excel(\"WEOOct2020all.xls\", engine=\"xlrd\")\n",
    "\n",
    "# 1 Task\n",
    "# Find top 10 countries that grew \"Gross domestic product per capita\" the most over the last decade\n",
    "\n",
    "# Choose decade years\n",
    "year_end = df[\"Estimates Start After\"].value_counts().index[1].astype(int)\n",
    "year_start = year_end - 10\n",
    "\n",
    "# Choose rows where \"WEO Subject Code\" is NGDPDPC\n",
    "df = df[df[\"WEO Subject Code\"] == \"NGDPDPC\"]\n",
    "\n",
    "# Select only columns that are required for calculations\n",
    "df = df[[\"Country\", year_start, year_end]].dropna()\n",
    "\n",
    "# Calculate GDP change over the decade\n",
    "df[\"GDP_change\"] = df[year_end] - df[year_start]\n",
    "\n",
    "# Calculate GDP growth rate over the decade\n",
    "df[\"GDP_per_capita_growth_rate\"] = ((df[year_end] - df[year_start]) / df[year_start] * 100)\n",
    "\n",
    "# Sort the countries based on their GDP per capita growth rates in descending order\n",
    "df_res = df.sort_values(by=\"GDP_change\", ascending=False)\n",
    "\n",
    "df_res_2 = df.sort_values(by=\"GDP_per_capita_growth_rate\", ascending=False)\n",
    "\n",
    "# Display the top 10 countries\n",
    "print('Top 10 countries that GDP per capita changed the most over the last decade:')\n",
    "print(df_res.head(10)[[\"Country\", \"GDP_change\"]])\n",
    "print('\\n')\n",
    "print('Top 10 countries that had the highest GDP per capita growth rate over the last decade:')\n",
    "print(df_res_2.head(10)[[\"Country\", \"GDP_per_capita_growth_rate\"]])"
   ]
  },
  {
   "cell_type": "code",
   "execution_count": null,
   "id": "f15977d9-6d22-49d0-bf4b-cbb9d60c4d1c",
   "metadata": {},
   "outputs": [],
   "source": []
  }
 ],
 "metadata": {
  "kernelspec": {
   "display_name": "Python 3 (ipykernel)",
   "language": "python",
   "name": "python3"
  },
  "language_info": {
   "codemirror_mode": {
    "name": "ipython",
    "version": 3
   },
   "file_extension": ".py",
   "mimetype": "text/x-python",
   "name": "python",
   "nbconvert_exporter": "python",
   "pygments_lexer": "ipython3",
   "version": "3.10.6"
  }
 },
 "nbformat": 4,
 "nbformat_minor": 5
}
